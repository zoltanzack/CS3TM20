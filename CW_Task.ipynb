{
  "nbformat": 4,
  "nbformat_minor": 0,
  "metadata": {
    "colab": {
      "name": "Copy of CW_Task.ipynb",
      "provenance": [],
      "collapsed_sections": [
        "O8VrHduYC-kd"
      ],
      "toc_visible": true,
      "include_colab_link": true
    },
    "kernelspec": {
      "display_name": "Python 3",
      "name": "python3"
    }
  },
  "cells": [
    {
      "cell_type": "markdown",
      "metadata": {
        "id": "view-in-github",
        "colab_type": "text"
      },
      "source": [
        "<a href=\"https://colab.research.google.com/github/zoltanzack/CS3TM20/blob/master/CW_Task.ipynb\" target=\"_parent\"><img src=\"https://colab.research.google.com/assets/colab-badge.svg\" alt=\"Open In Colab\"/></a>"
      ]
    },
    {
      "cell_type": "code",
      "metadata": {
        "id": "yhgYu18FM-_L"
      },
      "source": [
        "from IPython import get_ipython\n",
        "get_ipython().magic('reset -sf') "
      ],
      "execution_count": null,
      "outputs": []
    },
    {
      "cell_type": "markdown",
      "metadata": {
        "id": "QXdrc29D71MH"
      },
      "source": [
        "# **Steps outline**\n",
        "1. Download your data set by inputting your student number.\n",
        "2. Process your text data, extract features, convert them into vectors\n",
        "3. Modeling, train models on the data set (select model, tune different parameters)\n",
        "4. Process your text data, extract features, convert them into vectors\n",
        "5. Analysis and discussions"
      ]
    },
    {
      "cell_type": "markdown",
      "metadata": {
        "id": "934uDa63sRnp"
      },
      "source": [
        "# Step 1: Load Dataset\n"
      ]
    },
    {
      "cell_type": "code",
      "metadata": {
        "id": "cxDjTTcDrtVl"
      },
      "source": [
        "# Imports\n",
        "import numpy as np\n",
        "import pandas as pd\n",
        "import tensorflow as tf\n",
        "from tensorflow import keras"
      ],
      "execution_count": 5,
      "outputs": []
    },
    {
      "cell_type": "code",
      "source": [
        "# Import dataset\n",
        "from sklearn.datasets import fetch_20newsgroups\n",
        "\n",
        "# Possible categories\n",
        "#dataset_categories = ['alt.atheism', 'soc.religion.christian', 'comp.graphics', 'sci.med']\n",
        "dataset_categories = ['comp.graphics', 'alt.atheism']\n",
        "\n",
        "# Training and testing dataset\n",
        "  # fetch_20newsgroups function is a data fetching / caching functions that downloads the data archive from the original `20 newsgroups website`\n",
        "newsgroups_train = fetch_20newsgroups(subset='train',  categories=dataset_categories, shuffle=True, random_state=42)\n",
        "newsgroups_test = fetch_20newsgroups(subset='test',  categories=dataset_categories, shuffle=True, random_state=42)"
      ],
      "metadata": {
        "id": "ww0K-IJ7r3HN"
      },
      "execution_count": 58,
      "outputs": []
    },
    {
      "cell_type": "markdown",
      "metadata": {
        "id": "O8VrHduYC-kd"
      },
      "source": [
        "## Dataset Indetification\n",
        "**This is how to identify which data set to use (Please copy  the following information in report front   page).**"
      ]
    },
    {
      "cell_type": "code",
      "metadata": {
        "colab": {
          "base_uri": "https://localhost:8080/"
        },
        "id": "gvU6i2KNHzC4",
        "outputId": "31f4f631-5544-4669-c0d6-b6ebb368a740"
      },
      "source": [
        "index = input('Type your student number: ')"
      ],
      "execution_count": 1,
      "outputs": [
        {
          "name": "stdout",
          "output_type": "stream",
          "text": [
            "type your student number? 28006461\n"
          ]
        }
      ]
    },
    {
      "cell_type": "code",
      "metadata": {
        "colab": {
          "base_uri": "https://localhost:8080/"
        },
        "id": "qOkb3xh6IqHa",
        "outputId": "9b5831df-bb70-47b8-e679-92460cfc1081"
      },
      "source": [
        "x = int(index) % 4\n",
        "y = int(index) % 3\n",
        "print('This is your data set index ----> (', x, y, ')' )"
      ],
      "execution_count": 3,
      "outputs": [
        {
          "output_type": "stream",
          "name": "stdout",
          "text": [
            "This is your data set index ----> ( 1 0 )\n"
          ]
        }
      ]
    },
    {
      "cell_type": "code",
      "metadata": {
        "colab": {
          "base_uri": "https://localhost:8080/"
        },
        "id": "HXPpVRSGAPM7",
        "outputId": "a08f249e-151d-42c6-d835-992fe9dd2988"
      },
      "source": [
        "data1 = newsgroups_train.target_names[x]\n",
        "data2 = newsgroups_train.target_names[y]\n",
        "categories = [data1, data2]\n",
        "print(categories)"
      ],
      "execution_count": 19,
      "outputs": [
        {
          "output_type": "stream",
          "name": "stdout",
          "text": [
            "['comp.graphics', 'alt.atheism']\n"
          ]
        }
      ]
    },
    {
      "cell_type": "markdown",
      "metadata": {
        "id": "v1jAHpjtaSPu"
      },
      "source": [
        "# Step 2: Process your text data, extract features"
      ]
    },
    {
      "cell_type": "markdown",
      "metadata": {
        "id": "El_vU9NocxVC"
      },
      "source": [
        "## 2.1 NLP Pre-processing\n",
        "Process your text data"
      ]
    },
    {
      "cell_type": "markdown",
      "metadata": {
        "id": "eDHwDyKzNirS"
      },
      "source": [
        "**An example is provided. You have modify to apply to data set based on your student number.**"
      ]
    },
    {
      "cell_type": "code",
      "metadata": {
        "colab": {
          "base_uri": "https://localhost:8080/"
        },
        "id": "wC3yT07PJnKp",
        "outputId": "e081902d-c0ba-4607-ecfc-b43b0e0a8e0f"
      },
      "source": [
        "# write your own NLP precessing examples with  preprocessing techniques.\n",
        "\n",
        "import nltk\n",
        "nltk.download('punkt', quiet=True)\n",
        "nltk.download('averaged_perceptron_tagger', quiet=True)\n",
        "nltk.download('wordnet', quiet=True)\n",
        "\n",
        "# Get data\n",
        "data = newsgroups_train.data[128]\n",
        "print(data)\n",
        "\n",
        "# Tokenise using word_tokenize\n",
        "from nltk.tokenize import word_tokenize\n",
        "tokenised = word_tokenize(data)\n",
        "print(\"-------------------------tokenize:\")\n",
        "print(tokenised)\n",
        "\n",
        "# Stemming  \n",
        "stemmer = nltk.stem.PorterStemmer()\n",
        "stemmed = stemmer.stem(data)\n",
        "print(\"-------------------------stemming:\")\n",
        "print(stemmed)"
      ],
      "execution_count": 60,
      "outputs": [
        {
          "output_type": "stream",
          "name": "stdout",
          "text": [
            "From: eeerik@cc.newcastle.edu.au\n",
            "Subject: Color palette for 256 color VGA rainbow\n",
            "Organization: University of Newcastle, AUSTRALIA\n",
            "Lines: 11\n",
            "\n",
            "Does anybody out there have or know how to calculate the RGB values \n",
            "required to set the 256 color VGA palette so that the colors from \n",
            "0..255 will give 256 colors  of the rainbow ie red, orange, \n",
            "yellow, etc.\n",
            "\n",
            "Any help would be appreciated. Please email to eeerik@cc.newcastle.edu.au\n",
            "\n",
            "Erik de Castro Lopo,\n",
            "Dept. Electrical & Computer Eng.,\n",
            "Uni. of Newcastle,\n",
            "Australia.\n",
            "\n",
            "-------------------------tokenize:\n",
            "['From', ':', 'eeerik', '@', 'cc.newcastle.edu.au', 'Subject', ':', 'Color', 'palette', 'for', '256', 'color', 'VGA', 'rainbow', 'Organization', ':', 'University', 'of', 'Newcastle', ',', 'AUSTRALIA', 'Lines', ':', '11', 'Does', 'anybody', 'out', 'there', 'have', 'or', 'know', 'how', 'to', 'calculate', 'the', 'RGB', 'values', 'required', 'to', 'set', 'the', '256', 'color', 'VGA', 'palette', 'so', 'that', 'the', 'colors', 'from', '0..255', 'will', 'give', '256', 'colors', 'of', 'the', 'rainbow', 'ie', 'red', ',', 'orange', ',', 'yellow', ',', 'etc', '.', 'Any', 'help', 'would', 'be', 'appreciated', '.', 'Please', 'email', 'to', 'eeerik', '@', 'cc.newcastle.edu.au', 'Erik', 'de', 'Castro', 'Lopo', ',', 'Dept', '.', 'Electrical', '&', 'Computer', 'Eng.', ',', 'Uni', '.', 'of', 'Newcastle', ',', 'Australia', '.']\n",
            "-------------------------stemming:\n",
            "from: eeerik@cc.newcastle.edu.au\n",
            "subject: color palette for 256 color vga rainbow\n",
            "organization: university of newcastle, australia\n",
            "lines: 11\n",
            "\n",
            "does anybody out there have or know how to calculate the rgb values \n",
            "required to set the 256 color vga palette so that the colors from \n",
            "0..255 will give 256 colors  of the rainbow ie red, orange, \n",
            "yellow, etc.\n",
            "\n",
            "any help would be appreciated. please email to eeerik@cc.newcastle.edu.au\n",
            "\n",
            "erik de castro lopo,\n",
            "dept. electrical & computer eng.,\n",
            "uni. of newcastle,\n",
            "australia.\n",
            "\n"
          ]
        }
      ]
    },
    {
      "cell_type": "markdown",
      "source": [
        "## 2.2 Feature Extraction\n",
        "Extract features"
      ],
      "metadata": {
        "id": "rO-W_wJKSGwP"
      }
    },
    {
      "cell_type": "code",
      "source": [
        "# tf-idf: search: scikit learn tf-idf https://scikit-learn.org/stable/modules/generated/sklearn.feature_extraction.text.TfidfTransformer.html\n",
        "# search scikit learn CountVectorizer example: https://scikit-learn.org/stable/modules/generated/sklearn.feature_extraction.text.CountVectorizer.html \n",
        "\n",
        "# pos_taging: search: nltk pos tagging example\n",
        "  # https://www.ling.upenn.edu/courses/Fall_2003/ling001/penn_treebank_pos.html\n",
        "pos_tagged = nltk.pos_tag(tokenised)\n",
        "print(\"-------------------------pos_tagging:\")\n",
        "print(pos_tagged)\n",
        "\n",
        "# consituency parsing, chunking\n",
        "  # understand sentence grammar to know the proper sections of text.\n",
        "pattern = \"\"\"NP: {<DT>?<JJ>*<NN>}\n",
        "             VBD: {<VBD>}\n",
        "             IN: {<IN>}\"\"\"\n",
        "cp = nltk.RegexpParser(pattern)\n",
        "result = cp.parse(pos_tagged)\n",
        "print(result)"
      ],
      "metadata": {
        "id": "gT8azLbWSGDS"
      },
      "execution_count": null,
      "outputs": []
    },
    {
      "cell_type": "markdown",
      "metadata": {
        "id": "0hmXyhqwOaUQ"
      },
      "source": [
        "## 2.3 Vectorisation\n",
        "\n",
        "Convert them into vectors\n",
        "\n",
        "**Some preprocessing are provided for convenience. Please include why NLP preprocessing is in your report. Explain what techniques have been applied in your coursework.**"
      ]
    },
    {
      "cell_type": "code",
      "source": [
        "import nltk\n",
        "import re\n",
        "from nltk.tokenize import sent_tokenize, word_tokenize\n",
        "nltk.download('stopwords', quiet=True)\n",
        "nltk.download('punkt', quiet=True)\n",
        "nltk.download('averaged_perceptron_tagger', quiet=True)\n",
        "from tqdm import tqdm\n",
        "from nltk.corpus import stopwords\n",
        "stopwordEn = stopwords.words('english')\n",
        "from nltk.corpus import wordnet\n",
        "nltk.download('wordnet', quiet=True)\n",
        "from nltk.stem.snowball import SnowballStemmer\n",
        "stemmer = SnowballStemmer(\"english\", ignore_stopwords=True)\n",
        "\n",
        "def lemmaWord(word):\n",
        "    lemma = wordnet.morphy(word)\n",
        "    if lemma is not None:\n",
        "        return lemma\n",
        "    else:\n",
        "        return word\n",
        "\n",
        "def stemWord(word):\n",
        "    stem = stemmer.stem(word)\n",
        "    if stem is not None:\n",
        "        return stem\n",
        "    else:\n",
        "        return word\n",
        "\n",
        "def processText(text, lemma=False, gram=1, rmStop=True): # default remove stop words\n",
        "    text = re.sub(r'(https|http)?:\\/\\/(\\w|\\.|\\/|\\?|\\=|\\&|\\%)*\\b|@\\w+|#', '', text, flags=re.MULTILINE) #delete URL, #hashtag# , and @xxx\n",
        "    tokens = word_tokenize(text)\n",
        "    whitelist = [\"n't\", \"not\", \"no\"]\n",
        "    new_tokens = []\n",
        "    stoplist = stopwordEn if rmStop else []\n",
        "    for i in tokens:\n",
        "      i = i.lower()\n",
        "      if i.isalpha() and (i not in stoplist or i in whitelist):  #i not in ['.',',',';']  and (...)\n",
        "        if lemma: i = lemmaWord(i)\n",
        "        new_tokens.append(i)\n",
        "    del tokens\n",
        "    # tokens = [lemmaWord(i.lower()) if lemma else i.lower() for i in tokens if (i.lower() not in stoplist or i.lower() in whitelist) and i.isalpha()]\n",
        "    if gram<=1:\n",
        "        return new_tokens\n",
        "    else:\n",
        "        return [' '.join(i) for i in nltk.ngrams(new_tokens, gram)]"
      ],
      "metadata": {
        "id": "OAsUmh_OSY3A"
      },
      "execution_count": null,
      "outputs": []
    },
    {
      "cell_type": "code",
      "metadata": {
        "id": "YKFoZaWSVrnq"
      },
      "source": [
        "def getTags(text):\n",
        "  token = word_tokenize(text)\n",
        "  token = [l.lower() for l in token]\n",
        "  train_tags = nltk.pos_tag(token)\n",
        "  return [i[1] for i in train_tags]"
      ],
      "execution_count": 27,
      "outputs": []
    },
    {
      "cell_type": "code",
      "metadata": {
        "colab": {
          "base_uri": "https://localhost:8080/"
        },
        "id": "U8mwYOcFcS02",
        "outputId": "fd683e64-e3ed-4c49-d9a6-cd787dee9c03"
      },
      "source": [
        "print(processText(dataset))"
      ],
      "execution_count": 62,
      "outputs": [
        {
          "output_type": "stream",
          "name": "stdout",
          "text": [
            "['joseph', 'dale', 'fisher', 'subject', 'anger', 'organization', 'indiana', 'university', 'lines', 'article', 'writes', 'paul', 'conditt', 'writes', 'insert', 'deletion', 'paul', 'aaron', 'discourse', 'anger', 'ref', 'galatians', 'know', 'obvious', 'not', 'speaking', 'acts', 'flesh', 'speaking', 'emotions', 'emotions', 'not', 'moral', 'immoral', 'good', 'bad', 'emotions', 'first', 'step', 'not', 'label', 'emotion', 'good', 'bad', 'numb', 'hide', 'true', 'feelings', 'accept', 'god', 'accepts', 'us', 'oh', 'definitely', 'please', 'look', 'colossians', 'ephesians', 'emotions', 'controlled', 'god', 'puts', 'strong', 'emphasis', 'otherwise', 'would', 'paul', 'write', 'timothy', 'much', 'making', 'sure', 'teach', 'insert', 'deletion', 'remainder', 'paragraph', 'aaron', 'quick', 'judge', 'forgiven', 'aids', 'dealt', 'taken', 'responsibility', 'feelings', 'made', 'appropriate', 'choices', 'action', 'feelings', 'not', 'given', 'anger', 'please', 'joe', 'issue', 'especially', 'feelings', 'actions', 'actions', 'stem', 'feelings', 'many', 'instances', 'god', 'giving', 'anger', 'comes', 'soon', 'joe', 'moore', 'joe', 'fisher']\n"
          ]
        }
      ]
    },
    {
      "cell_type": "code",
      "metadata": {
        "colab": {
          "base_uri": "https://localhost:8080/"
        },
        "id": "-ZRqySa8cbr1",
        "outputId": "513df5d3-1ec1-48b3-be12-45c2376ff406"
      },
      "source": [
        "print(getTags(dataset))"
      ],
      "execution_count": 63,
      "outputs": [
        {
          "output_type": "stream",
          "name": "stdout",
          "text": [
            "['IN', ':', 'NN', 'VBZ', 'NN', '(', 'JJ', 'NN', 'NN', ')', 'NN', ':', 'NN', ':', 'NN', 'NN', ':', 'NN', 'NN', 'NNS', ':', 'CD', 'IN', 'NN', 'NNP', 'NN', 'NNP', 'NN', 'NNP', 'NN', 'NNP', 'NN', 'VBZ', ':', 'NN', 'NN', 'NN', 'NN', 'VBZ', ':', 'NN', 'JJ', 'NN', 'IN', 'NN', 'POS', 'CC', 'NN', 'POS', 'NN', 'IN', 'NN', ',', 'JJ', 'NNS', 'JJ', 'NNP', 'NNP', 'NNP', 'NN', 'VBP', 'RB', 'VB', 'WRB', 'PRP', 'VBZ', 'RB', 'JJ', '.', 'PRP', 'VBP', 'RB', 'VBG', 'IN', 'NNS', 'IN', 'DT', 'NNP', 'NN', '.', 'PRP', 'VBP', 'RB', 'VBG', 'IN', 'NNS', '.', 'NNS', 'VBP', 'RB', 'IN', 'PRP', 'JJ', 'JJ', 'CC', 'JJ', ',', 'JJ', 'CC', 'JJ', '.', 'NNS', 'RB', 'VBP', '.', 'DT', 'JJ', 'NN', 'VBZ', 'RB', 'RB', 'TO', 'VB', 'PRP$', 'NN', 'IN', 'JJ', 'CC', 'JJ', 'CC', 'TO', 'VB', 'PRP', 'RB', 'IN', 'NN', 'PRP', 'VBP', 'PRP$', 'JJ', 'NNS', ',', 'PRP', 'VBZ', 'TO', 'VB', 'PRP', 'IN', 'PRP', 'VBP', ',', 'IN', 'JJ', 'NN', 'NNS', 'PRP', '.', 'UH', ',', 'CC', 'PRP', 'RB', 'MD', 'VB', '.', 'VB', 'NN', 'IN', 'NNS', 'JJ', 'CC', 'VBZ', 'JJ', '.', 'NNS', 'MD', 'VB', 'VBN', 'CC', 'NN', 'VBZ', 'RB', 'JJ', 'NN', 'IN', 'NN', ',', 'RB', ',', 'WRB', 'MD', 'PRP', 'VB', 'VBN', 'NN', 'TO', 'VB', 'RB', 'JJ', 'IN', 'VBG', 'JJ', 'TO', 'VB', 'NN', '.', 'JJ', 'JJ', 'NN', 'IN', 'NN', 'IN', 'NN', 'NNP', 'NNP', 'NNP', 'NN', 'PRP', ',', 'RB', '.', 'VBP', 'RB', 'VB', 'JJ', 'TO', 'VB', '.', 'PRP', 'VBZ', 'VBN', 'DT', 'IN', 'JJ', 'NNS', ',', 'PRP', 'VBZ', 'VBN', 'IN', 'CC', 'VBN', 'NN', 'IN', 'PRP$', 'NNS', 'CC', 'VBD', 'NNP', 'JJ', 'NNS', 'IN', 'NN', 'IN', 'JJ', 'NNS', '.', 'PRP', 'VBZ', 'RB', 'VBN', 'IN', 'TO', 'VB', 'PRP$', 'NN', '.', 'NN', ',', 'NN', 'CC', 'NN', 'IN', 'PRP', ',', 'NN', '.', 'RB', ',', 'DT', 'NN', 'VBZ', 'JJ', 'RB', 'IN', 'NNS', 'CC', 'NNS', ',', 'IN', 'PRP$', 'NNS', 'VBP', 'IN', 'PRP$', 'NNS', 'IN', 'JJ', 'NNS', '.', 'IN', 'IN', 'NN', 'VBG', 'IN', 'TO', 'PRP$', 'NN', ',', 'WDT', 'VBZ', 'RB', 'RB', '.', 'JJ', 'JJ', 'NN', 'NN', 'NN', 'NN']\n"
          ]
        }
      ]
    },
    {
      "cell_type": "markdown",
      "metadata": {
        "id": "44xTvpLa_UC9"
      },
      "source": [
        "# Step 3: Pipeline"
      ]
    },
    {
      "cell_type": "markdown",
      "source": [
        "## 3.1 Construction\n",
        "Modelling"
      ],
      "metadata": {
        "id": "KOMUJVqfTM-S"
      }
    },
    {
      "cell_type": "code",
      "metadata": {
        "id": "vNm3axlhdzlF"
      },
      "source": [
        "from sklearn.pipeline import Pipeline\n",
        "from sklearn.feature_extraction.text import CountVectorizer\n",
        "from sklearn.feature_extraction.text import TfidfTransformer\n",
        "from sklearn.linear_model import SGDClassifier, LogisticRegression\n",
        "\n",
        "# Level: Lexicon. Model: tf-idf\n",
        "text_clf = Pipeline([\n",
        "    # add your code about text processing           \n",
        "    ('vect', CountVectorizer(analyzer=processText)), \n",
        "    ('tfidf', TfidfTransformer(use_idf=True)),\n",
        "\n",
        "    # change your classifier here, search: sklearn logistic regression example\n",
        "    ('clf', SGDClassifier())\n",
        "   #  ('clf', LogisticRegression())\n",
        "\n",
        "])\n",
        "\n",
        "# Level: Morphology\n",
        "\n",
        "# Level: Syntax\n",
        "\n",
        "# Level: Semantics "
      ],
      "execution_count": 29,
      "outputs": []
    },
    {
      "cell_type": "markdown",
      "source": [
        "## 3.2 Training\n",
        "Train models on the data set (select model, tune different parameters)"
      ],
      "metadata": {
        "id": "UTT06YcUTLTh"
      }
    },
    {
      "cell_type": "code",
      "metadata": {
        "colab": {
          "base_uri": "https://localhost:8080/"
        },
        "id": "Vuq37Bf3Qjpn",
        "outputId": "eac68695-bd06-44f0-dd88-1559c38c54ff"
      },
      "source": [
        "# To train the model \n",
        "text_clf.fit(newsgroups_train.data, newsgroups_train.target)\n",
        " "
      ],
      "execution_count": 30,
      "outputs": [
        {
          "output_type": "execute_result",
          "data": {
            "text/plain": [
              "Pipeline(steps=[('vect',\n",
              "                 CountVectorizer(analyzer=<function processText at 0x7f54b117bdd0>)),\n",
              "                ('tfidf', TfidfTransformer()), ('clf', SGDClassifier())])"
            ]
          },
          "metadata": {},
          "execution_count": 30
        }
      ]
    },
    {
      "cell_type": "markdown",
      "metadata": {
        "id": "gjQ8DmPNRUuJ"
      },
      "source": [
        "# Step 4: Prediction"
      ]
    },
    {
      "cell_type": "code",
      "metadata": {
        "id": "OMdoIHjMRWce"
      },
      "source": [
        "# To make prediction with dev/test set\n",
        "predicted = text_clf.predict(newsgroups_test.data)"
      ],
      "execution_count": 31,
      "outputs": []
    },
    {
      "cell_type": "markdown",
      "metadata": {
        "id": "3GXHJHqoBmyJ"
      },
      "source": [
        "# Step 5: Evaluation"
      ]
    },
    {
      "cell_type": "code",
      "metadata": {
        "colab": {
          "base_uri": "https://localhost:8080/",
          "height": 383
        },
        "id": "LdB9js0QDErf",
        "outputId": "7d63cdb2-578a-4cfe-c741-2fd6104c745e"
      },
      "source": [
        "# To evaluate your prediction on dev set\n",
        "from sklearn import metrics\n",
        "print(\"Accuracy:\", metrics.accuracy_score(newsgroups_test.target, predicted))\n",
        "\n",
        "print(metrics.classification_report(newsgroups_test.target, predicted, target_names=newsgroups_test.target_names))\n",
        "\n",
        "# confusion class\n",
        "pd.DataFrame(metrics.confusion_matrix(newsgroups_test.target, predicted),\n",
        "             columns=newsgroups_test.target_names,index=newsgroups_test.target_names)"
      ],
      "execution_count": 34,
      "outputs": [
        {
          "output_type": "stream",
          "name": "stdout",
          "text": [
            "Accuracy: 0.918774966711052\n",
            "                        precision    recall  f1-score   support\n",
            "\n",
            "           alt.atheism       0.92      0.81      0.86       319\n",
            "         comp.graphics       0.94      0.96      0.95       389\n",
            "               sci.med       0.94      0.94      0.94       396\n",
            "soc.religion.christian       0.88      0.95      0.91       398\n",
            "\n",
            "              accuracy                           0.92      1502\n",
            "             macro avg       0.92      0.91      0.92      1502\n",
            "          weighted avg       0.92      0.92      0.92      1502\n",
            "\n"
          ]
        },
        {
          "output_type": "execute_result",
          "data": {
            "text/html": [
              "\n",
              "  <div id=\"df-4684171b-0710-424e-9db7-3aca8a6aadce\">\n",
              "    <div class=\"colab-df-container\">\n",
              "      <div>\n",
              "<style scoped>\n",
              "    .dataframe tbody tr th:only-of-type {\n",
              "        vertical-align: middle;\n",
              "    }\n",
              "\n",
              "    .dataframe tbody tr th {\n",
              "        vertical-align: top;\n",
              "    }\n",
              "\n",
              "    .dataframe thead th {\n",
              "        text-align: right;\n",
              "    }\n",
              "</style>\n",
              "<table border=\"1\" class=\"dataframe\">\n",
              "  <thead>\n",
              "    <tr style=\"text-align: right;\">\n",
              "      <th></th>\n",
              "      <th>alt.atheism</th>\n",
              "      <th>comp.graphics</th>\n",
              "      <th>sci.med</th>\n",
              "      <th>soc.religion.christian</th>\n",
              "    </tr>\n",
              "  </thead>\n",
              "  <tbody>\n",
              "    <tr>\n",
              "      <th>alt.atheism</th>\n",
              "      <td>257</td>\n",
              "      <td>4</td>\n",
              "      <td>11</td>\n",
              "      <td>47</td>\n",
              "    </tr>\n",
              "    <tr>\n",
              "      <th>comp.graphics</th>\n",
              "      <td>6</td>\n",
              "      <td>375</td>\n",
              "      <td>7</td>\n",
              "      <td>1</td>\n",
              "    </tr>\n",
              "    <tr>\n",
              "      <th>sci.med</th>\n",
              "      <td>6</td>\n",
              "      <td>15</td>\n",
              "      <td>371</td>\n",
              "      <td>4</td>\n",
              "    </tr>\n",
              "    <tr>\n",
              "      <th>soc.religion.christian</th>\n",
              "      <td>9</td>\n",
              "      <td>7</td>\n",
              "      <td>5</td>\n",
              "      <td>377</td>\n",
              "    </tr>\n",
              "  </tbody>\n",
              "</table>\n",
              "</div>\n",
              "      <button class=\"colab-df-convert\" onclick=\"convertToInteractive('df-4684171b-0710-424e-9db7-3aca8a6aadce')\"\n",
              "              title=\"Convert this dataframe to an interactive table.\"\n",
              "              style=\"display:none;\">\n",
              "        \n",
              "  <svg xmlns=\"http://www.w3.org/2000/svg\" height=\"24px\"viewBox=\"0 0 24 24\"\n",
              "       width=\"24px\">\n",
              "    <path d=\"M0 0h24v24H0V0z\" fill=\"none\"/>\n",
              "    <path d=\"M18.56 5.44l.94 2.06.94-2.06 2.06-.94-2.06-.94-.94-2.06-.94 2.06-2.06.94zm-11 1L8.5 8.5l.94-2.06 2.06-.94-2.06-.94L8.5 2.5l-.94 2.06-2.06.94zm10 10l.94 2.06.94-2.06 2.06-.94-2.06-.94-.94-2.06-.94 2.06-2.06.94z\"/><path d=\"M17.41 7.96l-1.37-1.37c-.4-.4-.92-.59-1.43-.59-.52 0-1.04.2-1.43.59L10.3 9.45l-7.72 7.72c-.78.78-.78 2.05 0 2.83L4 21.41c.39.39.9.59 1.41.59.51 0 1.02-.2 1.41-.59l7.78-7.78 2.81-2.81c.8-.78.8-2.07 0-2.86zM5.41 20L4 18.59l7.72-7.72 1.47 1.35L5.41 20z\"/>\n",
              "  </svg>\n",
              "      </button>\n",
              "      \n",
              "  <style>\n",
              "    .colab-df-container {\n",
              "      display:flex;\n",
              "      flex-wrap:wrap;\n",
              "      gap: 12px;\n",
              "    }\n",
              "\n",
              "    .colab-df-convert {\n",
              "      background-color: #E8F0FE;\n",
              "      border: none;\n",
              "      border-radius: 50%;\n",
              "      cursor: pointer;\n",
              "      display: none;\n",
              "      fill: #1967D2;\n",
              "      height: 32px;\n",
              "      padding: 0 0 0 0;\n",
              "      width: 32px;\n",
              "    }\n",
              "\n",
              "    .colab-df-convert:hover {\n",
              "      background-color: #E2EBFA;\n",
              "      box-shadow: 0px 1px 2px rgba(60, 64, 67, 0.3), 0px 1px 3px 1px rgba(60, 64, 67, 0.15);\n",
              "      fill: #174EA6;\n",
              "    }\n",
              "\n",
              "    [theme=dark] .colab-df-convert {\n",
              "      background-color: #3B4455;\n",
              "      fill: #D2E3FC;\n",
              "    }\n",
              "\n",
              "    [theme=dark] .colab-df-convert:hover {\n",
              "      background-color: #434B5C;\n",
              "      box-shadow: 0px 1px 3px 1px rgba(0, 0, 0, 0.15);\n",
              "      filter: drop-shadow(0px 1px 2px rgba(0, 0, 0, 0.3));\n",
              "      fill: #FFFFFF;\n",
              "    }\n",
              "  </style>\n",
              "\n",
              "      <script>\n",
              "        const buttonEl =\n",
              "          document.querySelector('#df-4684171b-0710-424e-9db7-3aca8a6aadce button.colab-df-convert');\n",
              "        buttonEl.style.display =\n",
              "          google.colab.kernel.accessAllowed ? 'block' : 'none';\n",
              "\n",
              "        async function convertToInteractive(key) {\n",
              "          const element = document.querySelector('#df-4684171b-0710-424e-9db7-3aca8a6aadce');\n",
              "          const dataTable =\n",
              "            await google.colab.kernel.invokeFunction('convertToInteractive',\n",
              "                                                     [key], {});\n",
              "          if (!dataTable) return;\n",
              "\n",
              "          const docLinkHtml = 'Like what you see? Visit the ' +\n",
              "            '<a target=\"_blank\" href=https://colab.research.google.com/notebooks/data_table.ipynb>data table notebook</a>'\n",
              "            + ' to learn more about interactive tables.';\n",
              "          element.innerHTML = '';\n",
              "          dataTable['output_type'] = 'display_data';\n",
              "          await google.colab.output.renderOutput(dataTable, element);\n",
              "          const docLink = document.createElement('div');\n",
              "          docLink.innerHTML = docLinkHtml;\n",
              "          element.appendChild(docLink);\n",
              "        }\n",
              "      </script>\n",
              "    </div>\n",
              "  </div>\n",
              "  "
            ],
            "text/plain": [
              "                        alt.atheism  ...  soc.religion.christian\n",
              "alt.atheism                     257  ...                      47\n",
              "comp.graphics                     6  ...                       1\n",
              "sci.med                           6  ...                       4\n",
              "soc.religion.christian            9  ...                     377\n",
              "\n",
              "[4 rows x 4 columns]"
            ]
          },
          "metadata": {},
          "execution_count": 34
        }
      ]
    },
    {
      "cell_type": "markdown",
      "metadata": {
        "id": "qCLCqFXPQsRq"
      },
      "source": [
        "# Step 6: Error Analysis and Discussion\n",
        "Analysis and discussions\n",
        "\n",
        "Write down your own obseration about the predictions. Consider both confusion matrix and selected examples. Which classes are predicted correctly or incorrecly, possible explaination, possible solutions \n",
        "\n",
        "Exmaple: 1) Lab Practical, which feature is helpful for female name classification. https://www.nltk.org/book/ch06.html \n",
        "2) research paper: https://github.com/yoonkim/CNN_sentence \n"
      ]
    },
    {
      "cell_type": "code",
      "metadata": {
        "colab": {
          "base_uri": "https://localhost:8080/",
          "height": 424
        },
        "id": "kvBw9qkKDS-m",
        "outputId": "5a2f1aae-d90e-4158-e0d9-f79f6c62e7ae"
      },
      "source": [
        "df_pred = pd.DataFrame({'news':newsgroups_test.data,'prediction':predicted, 'true':newsgroups_test.target})\n",
        "df_pred[df_pred['true'] != df_pred['prediction']]"
      ],
      "execution_count": 36,
      "outputs": [
        {
          "output_type": "execute_result",
          "data": {
            "text/html": [
              "\n",
              "  <div id=\"df-949ea1e0-90c4-4833-96df-25ad74c0bbeb\">\n",
              "    <div class=\"colab-df-container\">\n",
              "      <div>\n",
              "<style scoped>\n",
              "    .dataframe tbody tr th:only-of-type {\n",
              "        vertical-align: middle;\n",
              "    }\n",
              "\n",
              "    .dataframe tbody tr th {\n",
              "        vertical-align: top;\n",
              "    }\n",
              "\n",
              "    .dataframe thead th {\n",
              "        text-align: right;\n",
              "    }\n",
              "</style>\n",
              "<table border=\"1\" class=\"dataframe\">\n",
              "  <thead>\n",
              "    <tr style=\"text-align: right;\">\n",
              "      <th></th>\n",
              "      <th>news</th>\n",
              "      <th>prediction</th>\n",
              "      <th>true</th>\n",
              "    </tr>\n",
              "  </thead>\n",
              "  <tbody>\n",
              "    <tr>\n",
              "      <th>12</th>\n",
              "      <td>From: \"Gabriel D. Underwood\" &lt;gabe+@CMU.EDU&gt;\\n...</td>\n",
              "      <td>3</td>\n",
              "      <td>2</td>\n",
              "    </tr>\n",
              "    <tr>\n",
              "      <th>15</th>\n",
              "      <td>From: swf@elsegundoca.ncr.com (Stan Friesen)\\n...</td>\n",
              "      <td>2</td>\n",
              "      <td>0</td>\n",
              "    </tr>\n",
              "    <tr>\n",
              "      <th>19</th>\n",
              "      <td>From: mathew &lt;mathew@mantis.co.uk&gt;\\nSubject: D...</td>\n",
              "      <td>3</td>\n",
              "      <td>0</td>\n",
              "    </tr>\n",
              "    <tr>\n",
              "      <th>26</th>\n",
              "      <td>From: UC512052@mizzou1.missouri.edu (David K. ...</td>\n",
              "      <td>2</td>\n",
              "      <td>1</td>\n",
              "    </tr>\n",
              "    <tr>\n",
              "      <th>36</th>\n",
              "      <td>Organization: Penn State University\\nFrom: &lt;RF...</td>\n",
              "      <td>0</td>\n",
              "      <td>2</td>\n",
              "    </tr>\n",
              "    <tr>\n",
              "      <th>...</th>\n",
              "      <td>...</td>\n",
              "      <td>...</td>\n",
              "      <td>...</td>\n",
              "    </tr>\n",
              "    <tr>\n",
              "      <th>1438</th>\n",
              "      <td>From: mangoe@cs.umd.edu (Charley Wingate)\\nSub...</td>\n",
              "      <td>0</td>\n",
              "      <td>3</td>\n",
              "    </tr>\n",
              "    <tr>\n",
              "      <th>1450</th>\n",
              "      <td>From: alan.barclay@almac.co.uk (Alan Barclay)\\...</td>\n",
              "      <td>1</td>\n",
              "      <td>2</td>\n",
              "    </tr>\n",
              "    <tr>\n",
              "      <th>1455</th>\n",
              "      <td>From: pww@spacsun.rice.edu (Peter Walker)\\nSub...</td>\n",
              "      <td>3</td>\n",
              "      <td>0</td>\n",
              "    </tr>\n",
              "    <tr>\n",
              "      <th>1480</th>\n",
              "      <td>From: wilsonr@logica.co.uk\\nSubject: Re: What ...</td>\n",
              "      <td>3</td>\n",
              "      <td>0</td>\n",
              "    </tr>\n",
              "    <tr>\n",
              "      <th>1492</th>\n",
              "      <td>From: kmr4@po.CWRU.edu (Keith M. Ryan)\\nSubjec...</td>\n",
              "      <td>3</td>\n",
              "      <td>0</td>\n",
              "    </tr>\n",
              "  </tbody>\n",
              "</table>\n",
              "<p>122 rows × 3 columns</p>\n",
              "</div>\n",
              "      <button class=\"colab-df-convert\" onclick=\"convertToInteractive('df-949ea1e0-90c4-4833-96df-25ad74c0bbeb')\"\n",
              "              title=\"Convert this dataframe to an interactive table.\"\n",
              "              style=\"display:none;\">\n",
              "        \n",
              "  <svg xmlns=\"http://www.w3.org/2000/svg\" height=\"24px\"viewBox=\"0 0 24 24\"\n",
              "       width=\"24px\">\n",
              "    <path d=\"M0 0h24v24H0V0z\" fill=\"none\"/>\n",
              "    <path d=\"M18.56 5.44l.94 2.06.94-2.06 2.06-.94-2.06-.94-.94-2.06-.94 2.06-2.06.94zm-11 1L8.5 8.5l.94-2.06 2.06-.94-2.06-.94L8.5 2.5l-.94 2.06-2.06.94zm10 10l.94 2.06.94-2.06 2.06-.94-2.06-.94-.94-2.06-.94 2.06-2.06.94z\"/><path d=\"M17.41 7.96l-1.37-1.37c-.4-.4-.92-.59-1.43-.59-.52 0-1.04.2-1.43.59L10.3 9.45l-7.72 7.72c-.78.78-.78 2.05 0 2.83L4 21.41c.39.39.9.59 1.41.59.51 0 1.02-.2 1.41-.59l7.78-7.78 2.81-2.81c.8-.78.8-2.07 0-2.86zM5.41 20L4 18.59l7.72-7.72 1.47 1.35L5.41 20z\"/>\n",
              "  </svg>\n",
              "      </button>\n",
              "      \n",
              "  <style>\n",
              "    .colab-df-container {\n",
              "      display:flex;\n",
              "      flex-wrap:wrap;\n",
              "      gap: 12px;\n",
              "    }\n",
              "\n",
              "    .colab-df-convert {\n",
              "      background-color: #E8F0FE;\n",
              "      border: none;\n",
              "      border-radius: 50%;\n",
              "      cursor: pointer;\n",
              "      display: none;\n",
              "      fill: #1967D2;\n",
              "      height: 32px;\n",
              "      padding: 0 0 0 0;\n",
              "      width: 32px;\n",
              "    }\n",
              "\n",
              "    .colab-df-convert:hover {\n",
              "      background-color: #E2EBFA;\n",
              "      box-shadow: 0px 1px 2px rgba(60, 64, 67, 0.3), 0px 1px 3px 1px rgba(60, 64, 67, 0.15);\n",
              "      fill: #174EA6;\n",
              "    }\n",
              "\n",
              "    [theme=dark] .colab-df-convert {\n",
              "      background-color: #3B4455;\n",
              "      fill: #D2E3FC;\n",
              "    }\n",
              "\n",
              "    [theme=dark] .colab-df-convert:hover {\n",
              "      background-color: #434B5C;\n",
              "      box-shadow: 0px 1px 3px 1px rgba(0, 0, 0, 0.15);\n",
              "      filter: drop-shadow(0px 1px 2px rgba(0, 0, 0, 0.3));\n",
              "      fill: #FFFFFF;\n",
              "    }\n",
              "  </style>\n",
              "\n",
              "      <script>\n",
              "        const buttonEl =\n",
              "          document.querySelector('#df-949ea1e0-90c4-4833-96df-25ad74c0bbeb button.colab-df-convert');\n",
              "        buttonEl.style.display =\n",
              "          google.colab.kernel.accessAllowed ? 'block' : 'none';\n",
              "\n",
              "        async function convertToInteractive(key) {\n",
              "          const element = document.querySelector('#df-949ea1e0-90c4-4833-96df-25ad74c0bbeb');\n",
              "          const dataTable =\n",
              "            await google.colab.kernel.invokeFunction('convertToInteractive',\n",
              "                                                     [key], {});\n",
              "          if (!dataTable) return;\n",
              "\n",
              "          const docLinkHtml = 'Like what you see? Visit the ' +\n",
              "            '<a target=\"_blank\" href=https://colab.research.google.com/notebooks/data_table.ipynb>data table notebook</a>'\n",
              "            + ' to learn more about interactive tables.';\n",
              "          element.innerHTML = '';\n",
              "          dataTable['output_type'] = 'display_data';\n",
              "          await google.colab.output.renderOutput(dataTable, element);\n",
              "          const docLink = document.createElement('div');\n",
              "          docLink.innerHTML = docLinkHtml;\n",
              "          element.appendChild(docLink);\n",
              "        }\n",
              "      </script>\n",
              "    </div>\n",
              "  </div>\n",
              "  "
            ],
            "text/plain": [
              "                                                   news  prediction  true\n",
              "12    From: \"Gabriel D. Underwood\" <gabe+@CMU.EDU>\\n...           3     2\n",
              "15    From: swf@elsegundoca.ncr.com (Stan Friesen)\\n...           2     0\n",
              "19    From: mathew <mathew@mantis.co.uk>\\nSubject: D...           3     0\n",
              "26    From: UC512052@mizzou1.missouri.edu (David K. ...           2     1\n",
              "36    Organization: Penn State University\\nFrom: <RF...           0     2\n",
              "...                                                 ...         ...   ...\n",
              "1438  From: mangoe@cs.umd.edu (Charley Wingate)\\nSub...           0     3\n",
              "1450  From: alan.barclay@almac.co.uk (Alan Barclay)\\...           1     2\n",
              "1455  From: pww@spacsun.rice.edu (Peter Walker)\\nSub...           3     0\n",
              "1480  From: wilsonr@logica.co.uk\\nSubject: Re: What ...           3     0\n",
              "1492  From: kmr4@po.CWRU.edu (Keith M. Ryan)\\nSubjec...           3     0\n",
              "\n",
              "[122 rows x 3 columns]"
            ]
          },
          "metadata": {},
          "execution_count": 36
        }
      ]
    },
    {
      "cell_type": "markdown",
      "metadata": {
        "id": "DRIRg2rufjPu"
      },
      "source": [
        "# References\n",
        "\n",
        "https://scikit-learn.org/stable/tutorial/text_analytics/working_with_text_data.html \n",
        "\n",
        "https://www.nltk.org/book/ch06.html \n",
        "\n",
        "search: Other online resources: \n",
        "\n",
        "https://towardsdatascience.com/setting-up-text-preprocessing-pipeline-using-scikit-learn-and-spacy-e09b9b76758f \n",
        " \n",
        "sentiment analysis scikit learn \n",
        "\n",
        "scikit learn or nltk + NLP techniques \n",
        "\n",
        "python + NLP techniques\n",
        "\n",
        "scikit learn logistic regression\n",
        "\n",
        "\n"
      ]
    }
  ]
}